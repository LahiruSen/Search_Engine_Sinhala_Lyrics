{
  "nbformat": 4,
  "nbformat_minor": 0,
  "metadata": {
    "colab": {
      "name": "FastText_Generator_Gensim.ipynb",
      "provenance": [],
      "collapsed_sections": []
    },
    "kernelspec": {
      "name": "python3",
      "display_name": "Python 3"
    },
    "accelerator": "GPU"
  },
  "cells": [
    {
      "cell_type": "markdown",
      "metadata": {
        "id": "yxnatNUdPYVJ",
        "colab_type": "text"
      },
      "source": [
        "# Imports"
      ]
    },
    {
      "cell_type": "code",
      "metadata": {
        "id": "A2uCBA5lxbbx",
        "colab_type": "code",
        "colab": {}
      },
      "source": [
        "import pandas as pd\n",
        "from gensim.models.fasttext import FastText"
      ],
      "execution_count": null,
      "outputs": []
    },
    {
      "cell_type": "markdown",
      "metadata": {
        "id": "zgkg_ONW_JhR",
        "colab_type": "text"
      },
      "source": [
        "# Load Data"
      ]
    },
    {
      "cell_type": "code",
      "metadata": {
        "id": "_ZyRirrh-Nyd",
        "colab_type": "code",
        "colab": {}
      },
      "source": [
        "folder_path = '/content/drive/My Drive/University/Implementation/data.csv'\n",
        "\n",
        "num_features = 400\n",
        "context = 5\n",
        "fasttext_model_path = folder_path + \"word_embedding/fasttext/fastText_\" \\\n",
        "                 + str(num_features) + \"_\" + str(context)"
      ],
      "execution_count": null,
      "outputs": []
    },
    {
      "cell_type": "markdown",
      "metadata": {
        "id": "tX0dAsONjU8S",
        "colab_type": "text"
      },
      "source": [
        "## Concat Datasets"
      ]
    },
    {
      "cell_type": "code",
      "metadata": {
        "id": "_8ZOL_99jUIX",
        "colab_type": "code",
        "colab": {}
      },
      "source": [
        "data = pd.read_csv(folder_path)"
      ],
      "execution_count": null,
      "outputs": []
    },
    {
      "cell_type": "markdown",
      "metadata": {
        "id": "2UDd7J80s0qb",
        "colab_type": "text"
      },
      "source": [
        "# Generate FastText"
      ]
    },
    {
      "cell_type": "code",
      "metadata": {
        "id": "vmMbg3A-Q8ap",
        "colab_type": "code",
        "colab": {}
      },
      "source": [
        "def generate_model(data,context,num_features,save_path):\n",
        "    comments = []\n",
        "    for comment in all_data:\n",
        "        comments += to_separate_sentences(comment)\n",
        "\n",
        "    print(\"# of comments taken for building the model: \" + str(len(comments)))\n",
        "\n",
        "    downsampling = 1e-3  # Downsample setting for frequent words\n",
        "    min_word_count = 1  # Minimum word count - if not occurred this much remove\n",
        "    num_workers = 4  # Number of threads to run in parallel\n",
        "\n",
        "    model = FastText(comments, workers=num_workers, size=num_features, min_count=min_word_count,\n",
        "                              window=context, sample=downsampling, sg=1, iter=50)\n",
        "    # model.init_sims(replace=True)  # If you don't plan to train the model any further\n",
        "\n",
        "    return model"
      ],
      "execution_count": null,
      "outputs": []
    },
    {
      "cell_type": "code",
      "metadata": {
        "id": "MLjcY1pdRIby",
        "colab_type": "code",
        "colab": {}
      },
      "source": [
        "# split a comment into sentences of words\n",
        "def to_separate_sentences(comment):\n",
        "    sentences = []\n",
        "    raw_sentences = str(comment).split(\".\")\n",
        "    for raw_sentence in raw_sentences:\n",
        "        if len(raw_sentence) > 2:\n",
        "            sentences.append(raw_sentence.split())\n",
        "    return sentences"
      ],
      "execution_count": null,
      "outputs": []
    },
    {
      "cell_type": "code",
      "metadata": {
        "id": "aKJ8u_uaRK2l",
        "colab_type": "code",
        "colab": {}
      },
      "source": [
        "def check_model_qulity(model, word):\n",
        "    similar_words = []\n",
        "    for s in model.most_similar(word):\n",
        "      similar_words.append(s[0])\n",
        "      # print(s[0])\n",
        "    return similar_words"
      ],
      "execution_count": null,
      "outputs": []
    },
    {
      "cell_type": "code",
      "metadata": {
        "id": "2J5g0gGQRNla",
        "colab_type": "code",
        "colab": {
          "base_uri": "https://localhost:8080/",
          "height": 34
        },
        "outputId": "5f21d8b4-719e-4ede-face-14b695169366"
      },
      "source": [
        "model = generate_model(data,context,num_features,fasttext_model_path)"
      ],
      "execution_count": null,
      "outputs": [
        {
          "output_type": "stream",
          "text": [
            "# of comments taken for building the model: 970328\n"
          ],
          "name": "stdout"
        }
      ]
    },
    {
      "cell_type": "code",
      "metadata": {
        "id": "mwjiPCcUs6yr",
        "colab_type": "code",
        "colab": {}
      },
      "source": [
        "model.save(fasttext_model_path)\n",
        "check_model_qulity(model, 'නැහැ')"
      ],
      "execution_count": null,
      "outputs": []
    },
    {
      "cell_type": "markdown",
      "metadata": {
        "id": "GvH9A69jkDNZ",
        "colab_type": "text"
      },
      "source": [
        "# Load Model"
      ]
    },
    {
      "cell_type": "code",
      "metadata": {
        "id": "ExMwVjcPpQy6",
        "colab_type": "code",
        "colab": {}
      },
      "source": [
        "model = FastText.load(fasttext_model_path)"
      ],
      "execution_count": null,
      "outputs": []
    },
    {
      "cell_type": "code",
      "metadata": {
        "id": "cMHVyGb8jiN5",
        "colab_type": "code",
        "colab": {
          "base_uri": "https://localhost:8080/",
          "height": 275
        },
        "outputId": "a52ec45d-0d60-44ce-b7c0-36c21e731f50"
      },
      "source": [
        "similar_words = check_model_qulity(model,'ඉහලම')\n",
        "similar_words"
      ],
      "execution_count": null,
      "outputs": [
        {
          "output_type": "stream",
          "text": [
            "/usr/local/lib/python3.6/dist-packages/ipykernel_launcher.py:3: DeprecationWarning: Call to deprecated `most_similar` (Method will be removed in 4.0.0, use self.wv.most_similar() instead).\n",
            "  This is separate from the ipykernel package so we can avoid doing imports until\n",
            "/usr/local/lib/python3.6/dist-packages/gensim/matutils.py:737: FutureWarning: Conversion of the second argument of issubdtype from `int` to `np.signedinteger` is deprecated. In future, it will be treated as `np.int64 == np.dtype(int).type`.\n",
            "  if np.issubdtype(vec.dtype, np.int):\n"
          ],
          "name": "stderr"
        },
        {
          "output_type": "execute_result",
          "data": {
            "text/plain": [
              "['එහලම',\n",
              " 'ඉහලමට්ටමක',\n",
              " 'ඉහලකුල',\n",
              " 'ඉහලටම',\n",
              " 'ඉහලන',\n",
              " 'ඉහලකට',\n",
              " 'පහලම',\n",
              " 'ඉහලගිය',\n",
              " 'ඉහල',\n",
              " 'ඉහලටයන්න']"
            ]
          },
          "metadata": {
            "tags": []
          },
          "execution_count": 8
        }
      ]
    }
  ]
}